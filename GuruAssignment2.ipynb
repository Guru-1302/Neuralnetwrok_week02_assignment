{
  "cells": [
    {
      "cell_type": "code",
      "source": [
        "class Employee:\n",
        "    count = 0\n",
        "\n",
        "    def __init__(self, name, family_name, salary, dpt):\n",
        "        self.__name = name\n",
        "        self.__family_name = family_name\n",
        "        self.salary = salary\n",
        "        self.__dpt = dpt\n",
        "        Employee.count += 1\n",
        "\n",
        "    def average_salary(employees):\n",
        "        sum = 0\n",
        "        for employee in employees:\n",
        "            sum += employee.salary\n",
        "        return sum / Employee.count\n",
        "class FulltimeEmployee(Employee):\n",
        "    def __init__(self, name, family_name, salary, dpt):\n",
        "        super().__init__(name, family_name, salary, dpt)\n",
        "\n",
        "def main():\n",
        "    employees = []\n",
        "    fte1 = FulltimeEmployee(\"guru raghavender\", \"bachireddy\", 1000000, \"Unknown\")\n",
        "    employees.append(fte1)\n",
        "    fte2 = FulltimeEmployee(\"rum\", \"vem\", 1600000, \"US\")\n",
        "    employees.append(fte2)\n",
        "    emp1 = Employee(\"rocky\", \"num\", 1400000, \"Sales\")\n",
        "    employees.append(emp1)\n",
        "    emp2 = Employee(\"sam\", \"ber\", 115000, \"UK\")\n",
        "    employees.append(emp2)\n",
        "    print(\"Average salary:\", FulltimeEmployee.average_salary(employees))\n",
        "\n",
        "\n",
        "if __name__ == \"__main__\":\n",
        "    main()\n",
        "\n"
      ],
      "metadata": {
        "colab": {
          "base_uri": "https://localhost:8080/"
        },
        "id": "LlxMg06NcS0n",
        "outputId": "c3fda4db-7da0-4dd6-92df-042a8bffd14b"
      },
      "execution_count": 7,
      "outputs": [
        {
          "output_type": "stream",
          "name": "stdout",
          "text": [
            "Average salary: 1028750.0\n"
          ]
        }
      ]
    },
    {
      "cell_type": "code",
      "source": [
        "import numpy as np\n",
        "v = np.random.uniform(1,20, 20)\n",
        "print(v)\n",
        "\n",
        "v = v.reshape(4, 5)\n",
        "print(v)\n",
        "\n",
        "vec = np.where(v == np.max(v, axis=1,keepdims=True), 0, v)\n",
        "print(v)"
      ],
      "metadata": {
        "colab": {
          "base_uri": "https://localhost:8080/"
        },
        "id": "5fAl5bHndwYm",
        "outputId": "eab01f75-3e8a-4cb9-ce7b-dc3c700e0dde"
      },
      "execution_count": 9,
      "outputs": [
        {
          "output_type": "stream",
          "name": "stdout",
          "text": [
            "[ 9.48211414  5.34591585  3.17049622  5.52044605 12.30759639 13.15676401\n",
            " 16.40320188 13.41695613  2.18898072 15.73099413  8.63428427 18.05519037\n",
            " 13.58047889 10.14972725 14.17524106  4.91167447 17.17291433 10.61770814\n",
            " 13.03631489  2.85626199]\n",
            "[[ 9.48211414  5.34591585  3.17049622  5.52044605 12.30759639]\n",
            " [13.15676401 16.40320188 13.41695613  2.18898072 15.73099413]\n",
            " [ 8.63428427 18.05519037 13.58047889 10.14972725 14.17524106]\n",
            " [ 4.91167447 17.17291433 10.61770814 13.03631489  2.85626199]]\n",
            "[[ 9.48211414  5.34591585  3.17049622  5.52044605 12.30759639]\n",
            " [13.15676401 16.40320188 13.41695613  2.18898072 15.73099413]\n",
            " [ 8.63428427 18.05519037 13.58047889 10.14972725 14.17524106]\n",
            " [ 4.91167447 17.17291433 10.61770814 13.03631489  2.85626199]]\n"
          ]
        }
      ]
    }
  ],
  "metadata": {
    "colab": {
      "name": "Welcome To Colab",
      "toc_visible": true,
      "provenance": []
    },
    "kernelspec": {
      "display_name": "Python 3",
      "name": "python3"
    }
  },
  "nbformat": 4,
  "nbformat_minor": 0
}